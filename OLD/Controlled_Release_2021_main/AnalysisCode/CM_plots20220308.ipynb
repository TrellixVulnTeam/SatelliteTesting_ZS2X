{
 "cells": [
  {
   "cell_type": "code",
   "execution_count": 32,
   "metadata": {
    "collapsed": true
   },
   "outputs": [],
   "source": [
    "import sys\n",
    "sys.path.insert(0, '/Users/evansherwin/PycharmProjects/SatelliteTesting/Controlled_Release_2021_main/AnalysisCode')\n",
    "import plotFunc\n",
    "import pandas as pd\n",
    "import importlib\n",
    "import matplotlib.pyplot as plt\n",
    "import numpy as np\n",
    "import os\n",
    "# importlib.reload(plotFunc)\n"
   ]
  },
  {
   "cell_type": "code",
   "execution_count": 33,
   "outputs": [],
   "source": [
    "matchedDF_CarbonMapper = pd.read_csv('/Users/evansherwin/PycharmProjects/SatelliteTesting/Controlled_Release_2021_main/matchedDF_CarbonMapper_1sigma.csv')\n",
    "# matchedDF_CarbonMapper = pd.read_excel('/Users/evansherwin/PycharmProjects/SatelliteTesting/Controlled_Release_2021_main/Sent_to_teams/Bridger/matchedDF_Bridger_unblindedToBridger.xlsx',\n",
    "#                                       sheet_name='matchedDF_Bridger_unblindedToBr', engine='openpyxl')\n",
    "matchedDF_CarbonMapper = matchedDF_CarbonMapper.replace('#VALUE!',np.NaN)\n",
    "# matchedDF_CarbonMapper['FacilityEmissionRateLower'] = matchedDF_CarbonMapper['FacilityEmissionRateLower'].replace('#VALUE!',0)\n",
    "# matchedDF_CarbonMapper['FacilityEmissionRateUpper'] = matchedDF_CarbonMapper['FacilityEmissionRateUpper'].replace(np.NaN,0)\n",
    "# matchedDF_CarbonMapper['FacilityEmissionRateLower'] = matchedDF_CarbonMapper['FacilityEmissionRateLower'].replace(np.NaN,0)"
   ],
   "metadata": {
    "collapsed": false,
    "pycharm": {
     "name": "#%%\n"
    }
   }
  },
  {
   "cell_type": "code",
   "execution_count": 26,
   "outputs": [
    {
     "data": {
      "text/plain": "Empty DataFrame\nColumns: [Unnamed: 0, level_0, index, PerformerExperimentID, FacilityID, EquipmentUnitID, DateOfSurvey, Operator_Timestamp, StartTime, EndTime, SurveyTime, Gas, PlumeLength (hyperspectral technologies only), FacilityEmissionRate, FacilityEmissionRateUpper, FacilityEmissionRateLower, UncertaintyType, WindSpeed, WindDirection, TransitDirection, QC filter, NumberOfEmissionSourcesReported, Stanford_timestamp, WindType, OperatorSet, UnblindingStage, Notes, cr_quad_scfh, PipeSize_inch, MeterCode, cr_allmeters_scfh, Flag_field_recorded, cr_Coriolis_gps, cr_scfh_mean30, cr_scfh_mean60, cr_scfh_mean90, TestLocation, cr_start, cr_end, cr_idx, PlumeLength_m, PlumeEstablished, PlumeSteady, tc_Classification, Detection, cr_kgh_CH4_mean30, cr_kgh_CH4_lower30, cr_kgh_CH4_upper30, cr_kgh_CH4_mean60, cr_kgh_CH4_lower60, cr_kgh_CH4_upper60, cr_kgh_CH4_mean90, cr_kgh_CH4_lower90, cr_kgh_CH4_upper90]\nIndex: []\n\n[0 rows x 54 columns]",
      "text/html": "<div>\n<style scoped>\n    .dataframe tbody tr th:only-of-type {\n        vertical-align: middle;\n    }\n\n    .dataframe tbody tr th {\n        vertical-align: top;\n    }\n\n    .dataframe thead th {\n        text-align: right;\n    }\n</style>\n<table border=\"1\" class=\"dataframe\">\n  <thead>\n    <tr style=\"text-align: right;\">\n      <th></th>\n      <th>Unnamed: 0</th>\n      <th>level_0</th>\n      <th>index</th>\n      <th>PerformerExperimentID</th>\n      <th>FacilityID</th>\n      <th>EquipmentUnitID</th>\n      <th>DateOfSurvey</th>\n      <th>Operator_Timestamp</th>\n      <th>StartTime</th>\n      <th>EndTime</th>\n      <th>...</th>\n      <th>Detection</th>\n      <th>cr_kgh_CH4_mean30</th>\n      <th>cr_kgh_CH4_lower30</th>\n      <th>cr_kgh_CH4_upper30</th>\n      <th>cr_kgh_CH4_mean60</th>\n      <th>cr_kgh_CH4_lower60</th>\n      <th>cr_kgh_CH4_upper60</th>\n      <th>cr_kgh_CH4_mean90</th>\n      <th>cr_kgh_CH4_lower90</th>\n      <th>cr_kgh_CH4_upper90</th>\n    </tr>\n  </thead>\n  <tbody>\n  </tbody>\n</table>\n<p>0 rows × 54 columns</p>\n</div>"
     },
     "execution_count": 26,
     "metadata": {},
     "output_type": "execute_result"
    }
   ],
   "source": [
    "# matchedDF_CarbonMapper.head()\n",
    "# plotFunc\n",
    "# matchedDF_CarbonMapper[(matchedDF_CarbonMapper['UnblindingStage'] == (2 + 1)) & (matchedDF_CarbonMapper['tc_Classification'] == 'TP')]\n",
    "# plotFunc.parity_plot(axs[0], matchedDF_CarbonMapper[(matchedDF_CarbonMapper['UnblindingStage'] == (0 + 1)) & (matchedDF_CarbonMapper['tc_Classification'] == 'TP')], 'Bridger')"
   ],
   "metadata": {
    "collapsed": false,
    "pycharm": {
     "name": "#%%\n"
    }
   }
  },
  {
   "cell_type": "code",
   "execution_count": 31,
   "outputs": [
    {
     "ename": "KeyError",
     "evalue": "'tc_Classification'",
     "output_type": "error",
     "traceback": [
      "\u001B[0;31m---------------------------------------------------------------------------\u001B[0m",
      "\u001B[0;31mKeyError\u001B[0m                                  Traceback (most recent call last)",
      "\u001B[0;32m~/PycharmProjects/SatelliteTesting/venv/lib/python3.6/site-packages/pandas/core/indexes/base.py\u001B[0m in \u001B[0;36mget_loc\u001B[0;34m(self, key, method, tolerance)\u001B[0m\n\u001B[1;32m   2897\u001B[0m             \u001B[0;32mtry\u001B[0m\u001B[0;34m:\u001B[0m\u001B[0;34m\u001B[0m\u001B[0m\n\u001B[0;32m-> 2898\u001B[0;31m                 \u001B[0;32mreturn\u001B[0m \u001B[0mself\u001B[0m\u001B[0;34m.\u001B[0m\u001B[0m_engine\u001B[0m\u001B[0;34m.\u001B[0m\u001B[0mget_loc\u001B[0m\u001B[0;34m(\u001B[0m\u001B[0mcasted_key\u001B[0m\u001B[0;34m)\u001B[0m\u001B[0;34m\u001B[0m\u001B[0m\n\u001B[0m\u001B[1;32m   2899\u001B[0m             \u001B[0;32mexcept\u001B[0m \u001B[0mKeyError\u001B[0m \u001B[0;32mas\u001B[0m \u001B[0merr\u001B[0m\u001B[0;34m:\u001B[0m\u001B[0;34m\u001B[0m\u001B[0m\n",
      "\u001B[0;32mpandas/_libs/index.pyx\u001B[0m in \u001B[0;36mpandas._libs.index.IndexEngine.get_loc\u001B[0;34m()\u001B[0m\n",
      "\u001B[0;32mpandas/_libs/index.pyx\u001B[0m in \u001B[0;36mpandas._libs.index.IndexEngine.get_loc\u001B[0;34m()\u001B[0m\n",
      "\u001B[0;32mpandas/_libs/hashtable_class_helper.pxi\u001B[0m in \u001B[0;36mpandas._libs.hashtable.PyObjectHashTable.get_item\u001B[0;34m()\u001B[0m\n",
      "\u001B[0;32mpandas/_libs/hashtable_class_helper.pxi\u001B[0m in \u001B[0;36mpandas._libs.hashtable.PyObjectHashTable.get_item\u001B[0;34m()\u001B[0m\n",
      "\u001B[0;31mKeyError\u001B[0m: 'tc_Classification'",
      "\nThe above exception was the direct cause of the following exception:\n",
      "\u001B[0;31mKeyError\u001B[0m                                  Traceback (most recent call last)",
      "\u001B[0;32m<ipython-input-31-48a82c1ebb28>\u001B[0m in \u001B[0;36m<module>\u001B[0;34m\u001B[0m\n\u001B[1;32m      9\u001B[0m      \u001B[0;32mif\u001B[0m \u001B[0mi\u001B[0m \u001B[0;34m==\u001B[0m \u001B[0;36m3\u001B[0m\u001B[0;34m:\u001B[0m\u001B[0;34m\u001B[0m\u001B[0m\n\u001B[1;32m     10\u001B[0m          \u001B[0;32mbreak\u001B[0m\u001B[0;34m\u001B[0m\u001B[0m\n\u001B[0;32m---> 11\u001B[0;31m      \u001B[0mplot_data\u001B[0m \u001B[0;34m=\u001B[0m \u001B[0mmatchedDF_CarbonMapper\u001B[0m\u001B[0;34m[\u001B[0m\u001B[0;34m(\u001B[0m\u001B[0mmatchedDF_CarbonMapper\u001B[0m\u001B[0;34m[\u001B[0m\u001B[0;34m'UnblindingStage'\u001B[0m\u001B[0;34m]\u001B[0m \u001B[0;34m==\u001B[0m \u001B[0;34m(\u001B[0m\u001B[0mi\u001B[0m \u001B[0;34m+\u001B[0m \u001B[0;36m1\u001B[0m\u001B[0;34m)\u001B[0m\u001B[0;34m)\u001B[0m \u001B[0;34m&\u001B[0m \u001B[0;34m(\u001B[0m\u001B[0mmatchedDF_CarbonMapper\u001B[0m\u001B[0;34m[\u001B[0m\u001B[0;34m'tc_Classification'\u001B[0m\u001B[0;34m]\u001B[0m \u001B[0;34m==\u001B[0m \u001B[0;34m'TP'\u001B[0m\u001B[0;34m)\u001B[0m\u001B[0;34m]\u001B[0m\u001B[0;34m\u001B[0m\u001B[0m\n\u001B[0m\u001B[1;32m     12\u001B[0m \u001B[0;34m\u001B[0m\u001B[0m\n\u001B[1;32m     13\u001B[0m      \u001B[0mplotFunc\u001B[0m\u001B[0;34m.\u001B[0m\u001B[0mparity_plot\u001B[0m\u001B[0;34m(\u001B[0m\u001B[0max\u001B[0m\u001B[0;34m,\u001B[0m \u001B[0mplot_data\u001B[0m\u001B[0;34m,\u001B[0m \u001B[0;34m'Bridger'\u001B[0m\u001B[0;34m)\u001B[0m\u001B[0;34m\u001B[0m\u001B[0m\n",
      "\u001B[0;32m~/PycharmProjects/SatelliteTesting/venv/lib/python3.6/site-packages/pandas/core/frame.py\u001B[0m in \u001B[0;36m__getitem__\u001B[0;34m(self, key)\u001B[0m\n\u001B[1;32m   2904\u001B[0m             \u001B[0;32mif\u001B[0m \u001B[0mself\u001B[0m\u001B[0;34m.\u001B[0m\u001B[0mcolumns\u001B[0m\u001B[0;34m.\u001B[0m\u001B[0mnlevels\u001B[0m \u001B[0;34m>\u001B[0m \u001B[0;36m1\u001B[0m\u001B[0;34m:\u001B[0m\u001B[0;34m\u001B[0m\u001B[0m\n\u001B[1;32m   2905\u001B[0m                 \u001B[0;32mreturn\u001B[0m \u001B[0mself\u001B[0m\u001B[0;34m.\u001B[0m\u001B[0m_getitem_multilevel\u001B[0m\u001B[0;34m(\u001B[0m\u001B[0mkey\u001B[0m\u001B[0;34m)\u001B[0m\u001B[0;34m\u001B[0m\u001B[0m\n\u001B[0;32m-> 2906\u001B[0;31m             \u001B[0mindexer\u001B[0m \u001B[0;34m=\u001B[0m \u001B[0mself\u001B[0m\u001B[0;34m.\u001B[0m\u001B[0mcolumns\u001B[0m\u001B[0;34m.\u001B[0m\u001B[0mget_loc\u001B[0m\u001B[0;34m(\u001B[0m\u001B[0mkey\u001B[0m\u001B[0;34m)\u001B[0m\u001B[0;34m\u001B[0m\u001B[0m\n\u001B[0m\u001B[1;32m   2907\u001B[0m             \u001B[0;32mif\u001B[0m \u001B[0mis_integer\u001B[0m\u001B[0;34m(\u001B[0m\u001B[0mindexer\u001B[0m\u001B[0;34m)\u001B[0m\u001B[0;34m:\u001B[0m\u001B[0;34m\u001B[0m\u001B[0m\n\u001B[1;32m   2908\u001B[0m                 \u001B[0mindexer\u001B[0m \u001B[0;34m=\u001B[0m \u001B[0;34m[\u001B[0m\u001B[0mindexer\u001B[0m\u001B[0;34m]\u001B[0m\u001B[0;34m\u001B[0m\u001B[0m\n",
      "\u001B[0;32m~/PycharmProjects/SatelliteTesting/venv/lib/python3.6/site-packages/pandas/core/indexes/base.py\u001B[0m in \u001B[0;36mget_loc\u001B[0;34m(self, key, method, tolerance)\u001B[0m\n\u001B[1;32m   2898\u001B[0m                 \u001B[0;32mreturn\u001B[0m \u001B[0mself\u001B[0m\u001B[0;34m.\u001B[0m\u001B[0m_engine\u001B[0m\u001B[0;34m.\u001B[0m\u001B[0mget_loc\u001B[0m\u001B[0;34m(\u001B[0m\u001B[0mcasted_key\u001B[0m\u001B[0;34m)\u001B[0m\u001B[0;34m\u001B[0m\u001B[0m\n\u001B[1;32m   2899\u001B[0m             \u001B[0;32mexcept\u001B[0m \u001B[0mKeyError\u001B[0m \u001B[0;32mas\u001B[0m \u001B[0merr\u001B[0m\u001B[0;34m:\u001B[0m\u001B[0;34m\u001B[0m\u001B[0m\n\u001B[0;32m-> 2900\u001B[0;31m                 \u001B[0;32mraise\u001B[0m \u001B[0mKeyError\u001B[0m\u001B[0;34m(\u001B[0m\u001B[0mkey\u001B[0m\u001B[0;34m)\u001B[0m \u001B[0;32mfrom\u001B[0m \u001B[0merr\u001B[0m\u001B[0;34m\u001B[0m\u001B[0m\n\u001B[0m\u001B[1;32m   2901\u001B[0m \u001B[0;34m\u001B[0m\u001B[0m\n\u001B[1;32m   2902\u001B[0m         \u001B[0;32mif\u001B[0m \u001B[0mtolerance\u001B[0m \u001B[0;32mis\u001B[0m \u001B[0;32mnot\u001B[0m \u001B[0;32mNone\u001B[0m\u001B[0;34m:\u001B[0m\u001B[0;34m\u001B[0m\u001B[0m\n",
      "\u001B[0;31mKeyError\u001B[0m: 'tc_Classification'"
     ]
    }
   ],
   "source": [
    "plt.subplots_adjust(hspace = 0.5)\n",
    "fig, axs = plt.subplots(2,2, figsize=(6, 6), facecolor='w', edgecolor='k')\n",
    "\n",
    "matchedDF_CarbonMapper['FacilityEmissionRateUpper'] = matchedDF_CarbonMapper['FacilityEmissionRateUpper'].replace('#VALUE!',np.NaN)\n",
    "matchedDF_CarbonMapper['FacilityEmissionRateLower'] = matchedDF_CarbonMapper['FacilityEmissionRateLower'].replace('#VALUE!',np.NaN)\n",
    "\n",
    "for i, ax in enumerate(axs.flat):\n",
    "     #fig,ax1 = plt.subplot(1,1,(stages + 1))\n",
    "     if i == 3:\n",
    "         break\n",
    "     plot_data = matchedDF_CarbonMapper[(matchedDF_CarbonMapper['UnblindingStage'] == (i + 1)) & (matchedDF_CarbonMapper['tc_Classification'] == 'TP')]\n",
    "\n",
    "     plotFunc.parity_plot(ax, plot_data, 'Bridger')\n",
    "     # plotFunc.parity_plot(ax, plot_data, 'CarbonMapper')\n",
    "\n",
    "# plt.show()\n",
    "# plotFunc.plotMain(cmData, cmData, cmData)\n",
    "\n",
    "# plt.savefig('CarbonMapper_parity_main_20220308b.pdf')\n",
    "plt.savefig('Bridger_parity_main_20220309.pdf')\n",
    "\n",
    "plt.close()"
   ],
   "metadata": {
    "collapsed": false,
    "pycharm": {
     "name": "#%%\n"
    }
   }
  },
  {
   "cell_type": "code",
   "execution_count": 12,
   "outputs": [],
   "source": [
    "# Parity chart with forced origin\n",
    "\n",
    "plt.subplots_adjust(hspace = 0.5)\n",
    "fig, axs = plt.subplots(2,2, figsize=(6, 6), facecolor='w', edgecolor='k')\n",
    "\n",
    "for i, ax in enumerate(axs.flat):\n",
    "     #fig,ax1 = plt.subplot(1,1,(stages + 1))\n",
    "     if i == 3:\n",
    "         break\n",
    "     plot_data = matchedDF_CarbonMapper[(matchedDF_CarbonMapper['UnblindingStage'] == (i + 1)) & (matchedDF_CarbonMapper['tc_Classification'] == 'TP')]\n",
    "     plotFunc.parity_plot(ax, plot_data, 'CarbonMapper', force_intercept_origin=1)\n",
    "\n",
    "plt.savefig('CarbonMapper_parity_force_origin_20220308.pdf')\n",
    "\n",
    "plt.close()"
   ],
   "metadata": {
    "collapsed": false,
    "pycharm": {
     "name": "#%%\n"
    }
   }
  },
  {
   "cell_type": "code",
   "execution_count": null,
   "outputs": [],
   "source": [
    "# Parity chart with x and y axes flipped\n",
    "\n",
    "plt.subplots_adjust(hspace = 0.5)\n",
    "fig, axs = plt.subplots(2,2, figsize=(6, 6), facecolor='w', edgecolor='k')\n",
    "\n",
    "for i, ax in enumerate(axs.flat):\n",
    "     #fig,ax1 = plt.subplot(1,1,(stages + 1))\n",
    "     if i == 3:\n",
    "         break\n",
    "     plot_data = matchedDF_CarbonMapper[(matchedDF_CarbonMapper['UnblindingStage'] == (i + 1)) & (matchedDF_CarbonMapper['tc_Classification'] == 'TP')]\n",
    "     plotFunc.parity_plot(ax, plot_data, 'CarbonMapper', force_intercept_origin=1)\n",
    "\n",
    "plt.savefig('CarbonMapper_parity_force_origin_20220308.pdf')\n",
    "\n",
    "plt.close()"
   ],
   "metadata": {
    "collapsed": false,
    "pycharm": {
     "name": "#%%\n"
    }
   }
  },
  {
   "cell_type": "code",
   "execution_count": 35,
   "outputs": [],
   "source": [
    "# Create data frame with x and y axes flipped\n",
    "\n",
    "meteredValues = matchedDF_CarbonMapper[[\"cr_kgh_CH4_mean90\", \"cr_kgh_CH4_lower90\", \"cr_kgh_CH4_upper90\"]]\n",
    "estimatedValues = matchedDF_CarbonMapper[[\"FacilityEmissionRate\", \"FacilityEmissionRateUpper\", \"FacilityEmissionRateLower\"]].astype(float)\n",
    "matchedDF_CarbonMapperFlip = matchedDF_CarbonMapper\n",
    "matchedDF_CarbonMapperFlip[[\"cr_kgh_CH4_mean90\", \"cr_kgh_CH4_lower90\", \"cr_kgh_CH4_upper90\"]] = estimatedValues\n",
    "matchedDF_CarbonMapperFlip[[\"FacilityEmissionRate\", \"FacilityEmissionRateUpper\", \"FacilityEmissionRateLower\"]] = meteredValues"
   ],
   "metadata": {
    "collapsed": false,
    "pycharm": {
     "name": "#%%\n"
    }
   }
  },
  {
   "cell_type": "code",
   "execution_count": 67,
   "outputs": [
    {
     "data": {
      "text/plain": "dtype('O')"
     },
     "execution_count": 67,
     "metadata": {},
     "output_type": "execute_result"
    }
   ],
   "source": [
    "# matchedDF_CarbonMapperFlip[[\"cr_kgh_CH4_mean90\", \"cr_kgh_CH4_lower90\", \"cr_kgh_CH4_upper90\"]]\n",
    "# estimatedValues\n",
    "# matchedDF_CarbonMapperFlip[[\"FacilityEmissionRate\", \"FacilityEmissionRateUpper\", \"FacilityEmissionRateLower\"]] # [[\"cr_kgh_CH4_mean90\", \"cr_kgh_CH4_lower90\", \"cr_kgh_CH4_upper90\"]]\n",
    "matchedDF_CarbonMapperFlip[\"cr_kgh_CH4_upper90\"].dtypes # - matchedDF_CarbonMapperFlip[\"cr_kgh_CH4_lower90\"]"
   ],
   "metadata": {
    "collapsed": false,
    "pycharm": {
     "name": "#%%\n"
    }
   }
  },
  {
   "cell_type": "code",
   "execution_count": 72,
   "outputs": [],
   "source": [
    "# Plot with x and y axes flipped\n",
    "\n",
    "plt.subplots_adjust(hspace = 0.5)\n",
    "fig, axs = plt.subplots(2,2, figsize=(6, 6), facecolor='w', edgecolor='k')\n",
    "\n",
    "for i, ax in enumerate(axs.flat):\n",
    "     #fig,ax1 = plt.subplot(1,1,(stages + 1))\n",
    "     if i == 3:\n",
    "         break\n",
    "     plot_data = matchedDF_CarbonMapperFlip[(matchedDF_CarbonMapperFlip['UnblindingStage'] == (i + 1)) & (matchedDF_CarbonMapperFlip['tc_Classification'] == 'TP')]\n",
    "     plotFunc.parity_plot(ax, plot_data, 'CarbonMapper', force_intercept_origin=0)\n",
    "\n",
    "plt.savefig('CarbonMapper_parity_xy_flip_20220308.pdf')\n",
    "\n",
    "plt.close()"
   ],
   "metadata": {
    "collapsed": false,
    "pycharm": {
     "name": "#%%\n"
    }
   }
  },
  {
   "cell_type": "code",
   "execution_count": 73,
   "outputs": [],
   "source": [
    "# Plot with x and y axes flipped, zero intercept\n",
    "\n",
    "plt.subplots_adjust(hspace = 0.5)\n",
    "fig, axs = plt.subplots(2,2, figsize=(6, 6), facecolor='w', edgecolor='k')\n",
    "\n",
    "for i, ax in enumerate(axs.flat):\n",
    "     #fig,ax1 = plt.subplot(1,1,(stages + 1))\n",
    "     if i == 3:\n",
    "         break\n",
    "     plot_data = matchedDF_CarbonMapperFlip[(matchedDF_CarbonMapperFlip['UnblindingStage'] == (i + 1)) & (matchedDF_CarbonMapperFlip['tc_Classification'] == 'TP')]\n",
    "     plotFunc.parity_plot(ax, plot_data, 'CarbonMapper', force_intercept_origin=1)\n",
    "\n",
    "plt.savefig('CarbonMapper_parity_xy_flip_force_origin_20220308.pdf')\n",
    "\n",
    "plt.close()"
   ],
   "metadata": {
    "collapsed": false,
    "pycharm": {
     "name": "#%%\n"
    }
   }
  },
  {
   "cell_type": "code",
   "execution_count": null,
   "outputs": [],
   "source": [
    "# Plot with x and y axes flipped, remove emissions above 600 kgh\n",
    "\n",
    "matchedDF_CarbonMapperFlipDropLarge = matchedDF_CarbonMapperFlip[matchedDF_CarbonMapperFlip['cr_kgh_CH4_mean90'] < 600]\n",
    "\n",
    "plt.subplots_adjust(hspace = 0.5)\n",
    "fig, axs = plt.subplots(2,2, figsize=(6, 6), facecolor='w', edgecolor='k')\n",
    "\n",
    "for i, ax in enumerate(axs.flat):\n",
    "     #fig,ax1 = plt.subplot(1,1,(stages + 1))\n",
    "     if i == 3:\n",
    "         break\n",
    "     plot_data = matchedDF_CarbonMapperFlipDropLarge[(matchedDF_CarbonMapperFlipDropLarge['UnblindingStage'] == (i + 1)) & (matchedDF_CarbonMapperFlipDropLarge['tc_Classification'] == 'TP')]\n",
    "     plotFunc.parity_plot(ax, plot_data, 'CarbonMapper', force_intercept_origin=0)\n",
    "\n",
    "plt.savefig('CarbonMapper_parity_xy_flip_drop_large_20220308.pdf')\n",
    "\n",
    "plt.close()"
   ],
   "metadata": {
    "collapsed": false,
    "pycharm": {
     "name": "#%%\n"
    }
   }
  },
  {
   "cell_type": "code",
   "execution_count": 76,
   "outputs": [],
   "source": [
    "# Plot with x and y axes flipped, remove emissions above 600 kgh, force origin\n",
    "\n",
    "matchedDF_CarbonMapperFlipDropLarge = matchedDF_CarbonMapperFlip[matchedDF_CarbonMapperFlip['cr_kgh_CH4_mean90'] < 600]\n",
    "\n",
    "plt.subplots_adjust(hspace = 0.5)\n",
    "fig, axs = plt.subplots(2,2, figsize=(6, 6), facecolor='w', edgecolor='k')\n",
    "\n",
    "for i, ax in enumerate(axs.flat):\n",
    "     #fig,ax1 = plt.subplot(1,1,(stages + 1))\n",
    "     if i == 3:\n",
    "         break\n",
    "     plot_data = matchedDF_CarbonMapperFlipDropLarge[(matchedDF_CarbonMapperFlipDropLarge['UnblindingStage'] == (i + 1)) & (matchedDF_CarbonMapperFlipDropLarge['tc_Classification'] == 'TP')]\n",
    "     plotFunc.parity_plot(ax, plot_data, 'CarbonMapper', force_intercept_origin=1)\n",
    "\n",
    "plt.savefig('CarbonMapper_parity_xy_flip_drop_large_force_origin_20220308.pdf')\n",
    "\n",
    "plt.close()"
   ],
   "metadata": {
    "collapsed": false,
    "pycharm": {
     "name": "#%%\n"
    }
   }
  },
  {
   "cell_type": "code",
   "execution_count": 36,
   "outputs": [],
   "source": [
    "# Plot with x and y axes flipped, remove emissions above 600 kgh\n",
    "\n",
    "matchedDF_CarbonMapperFlipDropLarge = matchedDF_CarbonMapperFlip[matchedDF_CarbonMapperFlip['cr_kgh_CH4_mean90'] < 600]\n",
    "\n",
    "plt.subplots_adjust(hspace = 0.5)\n",
    "fig, axs = plt.subplots(2,2, figsize=(6, 6), facecolor='w', edgecolor='k')\n",
    "\n",
    "for i, ax in enumerate(axs.flat):\n",
    "     #fig,ax1 = plt.subplot(1,1,(stages + 1))\n",
    "     if i == 3:\n",
    "         break\n",
    "     plot_data = matchedDF_CarbonMapperFlipDropLarge[(matchedDF_CarbonMapperFlipDropLarge['UnblindingStage'] == (i + 1)) & (matchedDF_CarbonMapperFlipDropLarge['tc_Classification'] == 'TP')]\n",
    "     plotFunc.parity_plot(ax, plot_data, 'CarbonMapper', force_intercept_origin=0)\n",
    "\n",
    "plt.savefig('CarbonMapper_parity_xy_flip_drop_large_20220309.pdf')\n",
    "\n",
    "plt.close()"
   ],
   "metadata": {
    "collapsed": false,
    "pycharm": {
     "name": "#%%\n"
    }
   }
  },
  {
   "cell_type": "code",
   "execution_count": 30,
   "outputs": [],
   "source": [
    "# Min detect\n",
    "\n",
    "fig, ax = plt.subplots(figsize=(10, 6))\n",
    "\n",
    "matchedDF_CarbonMapperleq200 = matchedDF_CarbonMapper[matchedDF_CarbonMapper['cr_kgh_CH4_mean90'] <= 200]\n",
    "\n",
    "bin_width = 20\n",
    "kgh_bin = np.arange(0, 160, bin_width)\n",
    "\n",
    "count_per_bin = pd.DataFrame(columns=['Total','Positive'], index=kgh_bin)\n",
    "\n",
    "for jj in kgh_bin:\n",
    "    selection = matchedDF_CarbonMapperleq200[(matchedDF_CarbonMapperleq200['cr_kgh_CH4_mean90'] >= jj) & (matchedDF_CarbonMapperleq200['cr_kgh_CH4_mean90'] < jj + bin_width)]\n",
    "    count_per_bin.loc[jj, 'Total'] = selection.shape[0]\n",
    "    count_per_bin.loc[jj, 'Positive'] = np.sum((selection['FacilityEmissionRate'] > 0))\n",
    "\n",
    "count_per_bin['Fraction'] = count_per_bin['Positive']/count_per_bin['Total']\n",
    "detectFracPlot = plt.bar(count_per_bin.index + bin_width, count_per_bin['Fraction'], width=bin_width*0.9, color='#8c1515')\n",
    "plt.xlabel('Emission size [kgh($CH_4$)]')\n",
    "plt.ylabel('Fraction detected')\n",
    "plt.xlim(0,180)\n",
    "\n",
    "for jj in kgh_bin:\n",
    "    ax.text(jj+15, 1.06, str(count_per_bin.loc[jj,'Positive']) + \"/\" + str(count_per_bin.loc[jj,'Total']), fontsize=12, color='black', rotation='horizontal') # kgh\n",
    "\n",
    "plt.savefig('CarbonMapper_min_detect_20220309.pdf')\n",
    "\n",
    "plt.close()"
   ],
   "metadata": {
    "collapsed": false,
    "pycharm": {
     "name": "#%%\n"
    }
   }
  },
  {
   "cell_type": "code",
   "execution_count": 27,
   "outputs": [
    {
     "data": {
      "text/plain": "array([  0,  20,  40,  60,  80, 100, 120, 140])"
     },
     "execution_count": 27,
     "metadata": {},
     "output_type": "execute_result"
    }
   ],
   "source": [
    "# count_per_bin.iloc[20,0]\n",
    "kgh_bin"
   ],
   "metadata": {
    "collapsed": false,
    "pycharm": {
     "name": "#%%\n"
    }
   }
  }
 ],
 "metadata": {
  "kernelspec": {
   "display_name": "Python 3",
   "language": "python",
   "name": "python3"
  },
  "language_info": {
   "codemirror_mode": {
    "name": "ipython",
    "version": 2
   },
   "file_extension": ".py",
   "mimetype": "text/x-python",
   "name": "python",
   "nbconvert_exporter": "python",
   "pygments_lexer": "ipython2",
   "version": "2.7.6"
  }
 },
 "nbformat": 4,
 "nbformat_minor": 0
}